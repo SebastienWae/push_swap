{
 "cells": [
  {
   "cell_type": "code",
   "execution_count": 376,
   "metadata": {},
   "outputs": [],
   "source": [
    "from igraph import *"
   ]
  },
  {
   "cell_type": "code",
   "execution_count": 377,
   "metadata": {},
   "outputs": [],
   "source": [
    "g = Graph()\n",
    "g.add_vertices(1, {\"label\": \"root\", \"color\": \"blue\", \"label_dist\": 1})"
   ]
  },
  {
   "cell_type": "code",
   "execution_count": 378,
   "metadata": {},
   "outputs": [],
   "source": [
    "def list_up(list, n):\n",
    "\twhile n > 0:\n",
    "\t\telem = list.pop(0)\n",
    "\t\tlist.append(elem)\n",
    "\t\tn -= 1\n",
    "\n",
    "def list_down(list, n):\n",
    "\twhile n > 0:\n",
    "\t\telem = list.pop(len(list) - 1)\n",
    "\t\tlist.insert(0, elem)\n",
    "\t\tn -= 1"
   ]
  },
  {
   "cell_type": "code",
   "execution_count": 379,
   "metadata": {},
   "outputs": [
    {
     "name": "stdout",
     "output_type": "stream",
     "text": [
      "######\n",
      "[590, 587, 582, 568, 565, 545, 537, 534, 529, 524, 514, 513, 510, 506, 496, 482, 475, 474, 471, 460, 459, 447, 445, 435, 432, 430, 428, 419, 412, 404, 399, 395, 387, 381, 377, 368, 354, 352, 346, 345, 339, 338, 337, 335, 324, 318, 316, 314, 302, 300, 299, 298, 297, 293, 288, 282, 279, 277, 243, 242, 239, 236, 233, 225, 223, 215, 207, 194, 176, 172, 170, 168, 154, 149, 145, 141, 137, 132, 131, 97, 81, 71, 63, 57, 53, 50, 48, 39, 37, 35, 34, 31, 30, 28, 19, 18, 17, 15, 14, 13]\n",
      "######\n",
      "[13, 14, 15, 17, 18, 19, 28, 30, 31, 34, 35, 37, 39, 48, 50, 53, 57, 63, 71, 81, 97, 131, 132, 137, 141, 145, 149, 154, 168, 170, 172, 176, 194, 207, 215, 223, 225, 233, 236, 239, 242, 243, 277, 279, 282, 288, 293, 297, 298, 299, 300, 302, 314, 316, 318, 324, 335, 337, 338, 339, 345, 346, 352, 354, 368, 377, 381, 387, 395, 399, 404, 412, 419, 428, 430, 432, 435, 445, 447, 459, 460, 471, 474, 475, 482, 496, 506, 510, 513, 514, 524, 529, 534, 537, 545, 565, 568, 582, 587, 590]\n",
      "######\n",
      "539\n"
     ]
    }
   ],
   "source": [
    "import random\n",
    "\n",
    "def do_search(left, right, sum):\n",
    "\ttt = {\"total\": 99999}\n",
    "\tfor i in range(len(left)):\n",
    "\t\tleft_up = i\n",
    "\t\tleft_down = len(left) - i\n",
    "\t\tif (len(right) == 0):\n",
    "\t\t\tright_up = 0\n",
    "\t\t\tright_down = 0\n",
    "\t\telse:\n",
    "\t\t\tright_prev_index = None\n",
    "\t\t\tfor x in range(len(right)):\n",
    "\t\t\t\tif right[x] > left[i] and (right_prev_index == None or right[x] < right[right_prev_index]):\n",
    "\t\t\t\t\tright_up = x + 1\n",
    "\t\t\t\t\tright_down = len(right) - (x + 1)\n",
    "\t\t\t\t\tright_prev_index = x\n",
    "\t\t\tif (right_prev_index == None):\n",
    "\t\t\t\tright_prev_index = 0\n",
    "\t\t\t\tfor x in range(len(right)):\n",
    "\t\t\t\t\tif (right[x] >= right[right_prev_index]):\n",
    "\t\t\t\t\t\tright_up = x \n",
    "\t\t\t\t\t\tright_down = len(right) + 1\n",
    "\t\t\t\t\t\tright_prev_index = x\n",
    "\t\tupup = max(left_up, right_up)\n",
    "\t\tupdown = left_up + right_down\n",
    "\t\tdowndown = max(left_down, right_down)\n",
    "\t\tdownup = left_down + right_up\n",
    "\t\tif (upup < tt[\"total\"] and upup <= updown and upup <= downdown and upup <= downup):\n",
    "\t\t\ttt[\"left\"] = left_up\n",
    "\t\t\ttt[\"right\"] = right_up\n",
    "\t\t\ttt[\"total\"] = upup\n",
    "\t\t\ttt[\"dir\"] = \"upup\"\n",
    "\t\telif (updown < tt[\"total\"] and updown <= upup and updown <= downdown and updown <= downup):\n",
    "\t\t\ttt[\"left\"] = left_up\n",
    "\t\t\ttt[\"right\"] = right_down\n",
    "\t\t\ttt[\"total\"] = updown\n",
    "\t\t\ttt[\"dir\"] = \"updown\"\n",
    "\t\telif (downdown < tt[\"total\"] and downdown <= upup and downdown <= updown and downdown <= downup):\n",
    "\t\t\ttt[\"left\"] = left_down\n",
    "\t\t\ttt[\"right\"] = right_down\n",
    "\t\t\ttt[\"total\"] = downdown\n",
    "\t\t\ttt[\"dir\"] = \"downdown\"\n",
    "\t\telif (downup < tt[\"total\"] and downup <= upup and downup <= updown and downup <= downdown):\n",
    "\t\t\ttt[\"left\"] = left_down\n",
    "\t\t\ttt[\"right\"] = right_up\n",
    "\t\t\ttt[\"total\"] = downup\n",
    "\t\t\ttt[\"dir\"] = \"downup\"\n",
    "\t\tif tt[\"total\"] == 0:\n",
    "\t\t\tbreak\n",
    "\tif tt[\"dir\"] == \"upup\":\n",
    "\t\tlist_up(left, tt[\"left\"])\n",
    "\t\tlist_up(right, tt[\"right\"])\n",
    "\telif tt[\"dir\"] == \"updown\":\n",
    "\t\tlist_up(left, tt[\"left\"])\n",
    "\t\tlist_down(right, tt[\"right\"])\n",
    "\telif tt[\"dir\"] == \"downdown\":\n",
    "\t\tlist_down(left, tt[\"left\"])\n",
    "\t\tlist_down(right, tt[\"right\"])\n",
    "\telif tt[\"dir\"] == \"downup\":\n",
    "\t\tlist_down(left, tt[\"left\"])\n",
    "\t\tlist_up(right, tt[\"right\"])\n",
    "\tright.insert(0, left.pop(0))\n",
    "\treturn (sum + tt[\"total\"])\n",
    "\n",
    "\n",
    "#i_left = random.sample(range(-2147483648,2147483647), 500)\n",
    "i_left = random.sample(range(0, 600), 100)\n",
    "i_right = []\n",
    "sum = 0\n",
    "while len(i_left) > 0:\n",
    "\tsum = do_search(i_left, i_right, sum)\n",
    "while i_right[0] != max(i_right):\n",
    "\ti_right.insert(0, i_right.pop(len(i_right) - 1))\n",
    "\tsum += 1\n",
    "print(\"######\")\n",
    "print(i_right)\n",
    "while (len(i_right) > 0):\n",
    "\ti_left.append(i_right.pop(len(i_right) - 1))\n",
    "\tsum += 1\n",
    "\n",
    "print(\"######\")\n",
    "print(i_left)\n",
    "print(\"######\")\n",
    "print(sum)"
   ]
  },
  {
   "cell_type": "code",
   "execution_count": 380,
   "metadata": {},
   "outputs": [],
   "source": [
    "#layout = g.layout_reingold_tilford_circular(root=[0])\n",
    "#plot(g, layout=layout, margin=50, bbox=(1200,1200))"
   ]
  }
 ],
 "metadata": {
  "interpreter": {
   "hash": "7754d2811eca21347776764568608585be1a36acbde305cce174359402076a9c"
  },
  "kernelspec": {
   "display_name": "Python 3.10.4 ('venv': venv)",
   "language": "python",
   "name": "python3"
  },
  "language_info": {
   "codemirror_mode": {
    "name": "ipython",
    "version": 3
   },
   "file_extension": ".py",
   "mimetype": "text/x-python",
   "name": "python",
   "nbconvert_exporter": "python",
   "pygments_lexer": "ipython3",
   "version": "3.10.4"
  },
  "orig_nbformat": 4
 },
 "nbformat": 4,
 "nbformat_minor": 2
}
